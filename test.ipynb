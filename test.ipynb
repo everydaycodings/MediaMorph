{
 "cells": [
  {
   "cell_type": "code",
   "execution_count": 27,
   "metadata": {},
   "outputs": [],
   "source": [
    "import os\n",
    "import math\n",
    "\n",
    "# Define the input file path\n",
    "input_file = \"input.txt\"\n",
    "\n",
    "# Read the input file as bytes\n",
    "with open(input_file, \"rb\") as f:\n",
    "    data = f.read()\n",
    "\n",
    "# Calculate the image dimensions\n",
    "image_size = len(data)\n",
    "image_dim = int(math.ceil(math.sqrt(image_size)))\n",
    "image_height = image_dim\n",
    "image_width = image_dim\n",
    "\n",
    "\n",
    "# Pad the data with zeros to fill the last row\n",
    "data += b\"\\x00\" * (image_width * image_height - image_size)\n",
    "\n",
    "# Write the padded data to a file for verification\n",
    "with open(\"padded_data.bin\", \"wb\") as f:\n",
    "    f.write(data)\n"
   ]
  },
  {
   "cell_type": "code",
   "execution_count": 28,
   "metadata": {},
   "outputs": [
    {
     "data": {
      "text/plain": [
       "True"
      ]
     },
     "execution_count": 28,
     "metadata": {},
     "output_type": "execute_result"
    }
   ],
   "source": [
    "import os\n",
    "import cv2\n",
    "import numpy as np\n",
    "\n",
    "# Define the input file path\n",
    "input_file = \"padded_data.bin\"\n",
    "\n",
    "# Read the input file as bytes\n",
    "with open(input_file, \"rb\") as f:\n",
    "    data = f.read()\n",
    "\n",
    "# Calculate the image dimensions\n",
    "image_size = len(data)\n",
    "image_dim = int(math.ceil(math.sqrt(image_size)))\n",
    "image_height = image_dim\n",
    "image_width = image_dim\n",
    "\n",
    "# Create a numpy array of zeros with the image dimensions\n",
    "image = np.zeros((image_height, image_width, 3), dtype=np.uint8)\n",
    "\n",
    "# Fill the numpy array with the data\n",
    "for i in range(image_size):\n",
    "    row = i // image_width\n",
    "    col = i % image_width\n",
    "    image[row, col, 0] = data[i]\n",
    "    image[row, col, 1] = data[i]\n",
    "    image[row, col, 2] = data[i]\n",
    "\n",
    "# Save the image as a PNG file\n",
    "cv2.imwrite(\"output.png\", image)\n"
   ]
  },
  {
   "cell_type": "code",
   "execution_count": 26,
   "metadata": {},
   "outputs": [],
   "source": [
    "import os\n",
    "import cv2\n",
    "import numpy as np\n",
    "\n",
    "# Define the input file path\n",
    "input_file = \"output.png\"\n",
    "\n",
    "# Read the input image\n",
    "image = cv2.imread(input_file)\n",
    "\n",
    "# Extract the pixel values as bytes\n",
    "data = bytearray()\n",
    "for row in range(image.shape[0]):\n",
    "    for col in range(image.shape[1]):\n",
    "        pixel = image[row, col]\n",
    "        data.append(pixel[0])\n",
    "\n",
    "# Remove any padding zeros\n",
    "while data[-1] == 0:\n",
    "    data.pop()\n",
    "\n",
    "# Convert the bytes to a string\n",
    "output_data = data.decode('utf-8')\n",
    "\n",
    "# Write the output data to a file\n",
    "with open(\"output.txt\", \"w\") as f:\n",
    "    f.write(output_data)\n"
   ]
  },
  {
   "attachments": {},
   "cell_type": "markdown",
   "metadata": {},
   "source": [
    "#works"
   ]
  },
  {
   "cell_type": "code",
   "execution_count": 21,
   "metadata": {},
   "outputs": [
    {
     "data": {
      "text/plain": [
       "True"
      ]
     },
     "execution_count": 21,
     "metadata": {},
     "output_type": "execute_result"
    }
   ],
   "source": [
    "import os\n",
    "import cv2\n",
    "import numpy as np\n",
    "\n",
    "# Define the input file path\n",
    "input_file = \"input.txt\"\n",
    "\n",
    "# Read the input file as bytes\n",
    "with open(input_file, \"rb\") as f:\n",
    "    data = f.read()\n",
    "\n",
    "# Calculate the image dimensions\n",
    "image_size = len(data)\n",
    "image_dim = int(math.ceil(math.sqrt(image_size)))\n",
    "image_height = image_dim\n",
    "image_width = image_dim\n",
    "\n",
    "# Pad the data with zeros to fill the last row\n",
    "data += b\"\\x00\" * (image_width * image_height - image_size)\n",
    "\n",
    "# Create a numpy array of zeros with the image dimensions\n",
    "image = np.zeros((image_height, image_width, 3), dtype=np.uint8)\n",
    "\n",
    "# Fill the numpy array with the data\n",
    "for i in range(image_size):\n",
    "    row = i // image_width\n",
    "    col = i % image_width\n",
    "    image[row, col, 0] = data[i]\n",
    "    image[row, col, 1] = data[i]\n",
    "    image[row, col, 2] = data[i]\n",
    "\n",
    "# Add noise to the image\n",
    "noise = np.random.randint(0, 64, size=(image_height, image_width, 3), dtype=np.uint8)\n",
    "image = cv2.add(image, noise)\n",
    "\n",
    "# Add glitch lines to the image\n",
    "glitch_rows = np.random.randint(0, image_height, size=(10,))\n",
    "for row in glitch_rows:\n",
    "    row_start = np.random.randint(0, image_width - 20)\n",
    "    row_end = row_start + np.random.randint(10, 20)\n",
    "    image[row, row_start:row_end] = 255 - image[row, row_start:row_end]\n",
    "\n",
    "# Save the image as a PNG file\n",
    "cv2.imwrite(\"output.png\", image)"
   ]
  },
  {
   "cell_type": "code",
   "execution_count": 22,
   "metadata": {},
   "outputs": [],
   "source": [
    "import cv2\n",
    "import numpy as np\n",
    "\n",
    "# Read the image file\n",
    "image = cv2.imread(\"output.png\")\n",
    "\n",
    "# Remove noise from the image\n",
    "image = cv2.fastNlMeansDenoisingColored(image, None, 10, 10, 7, 21)\n",
    "\n",
    "# Extract the data from the image\n",
    "data = []\n",
    "for row in range(image.shape[0]):\n",
    "    for col in range(image.shape[1]):\n",
    "        pixel_value = image[row, col, 0]\n",
    "        data.append(pixel_value)\n",
    "\n",
    "# Remove any padding zeros from the end of the data\n",
    "while data[-1] == 0:\n",
    "    data.pop()\n",
    "\n",
    "# Convert the data to bytes and write it to a file\n",
    "output_file = \"output.txt\"\n",
    "with open(output_file, \"wb\") as f:\n",
    "    f.write(bytes(data))\n"
   ]
  }
 ],
 "metadata": {
  "kernelspec": {
   "display_name": "mediamorph",
   "language": "python",
   "name": "python3"
  },
  "language_info": {
   "codemirror_mode": {
    "name": "ipython",
    "version": 3
   },
   "file_extension": ".py",
   "mimetype": "text/x-python",
   "name": "python",
   "nbconvert_exporter": "python",
   "pygments_lexer": "ipython3",
   "version": "3.9.16"
  },
  "orig_nbformat": 4
 },
 "nbformat": 4,
 "nbformat_minor": 2
}
